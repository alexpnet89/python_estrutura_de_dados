{
  "nbformat": 4,
  "nbformat_minor": 0,
  "metadata": {
    "colab": {
      "name": "Vetor não ordenado.ipynb",
      "provenance": [],
      "authorship_tag": "ABX9TyNLPEZ9FM/r+f6yW9ZhRdvs"
    },
    "kernelspec": {
      "name": "python3",
      "display_name": "Python 3"
    },
    "language_info": {
      "name": "python"
    }
  },
  "cells": [
    {
      "cell_type": "code",
      "execution_count": 1,
      "metadata": {
        "id": "-vf8isG98pt6"
      },
      "outputs": [],
      "source": [
        "import numpy as np"
      ]
    },
    {
      "cell_type": "code",
      "source": [
        "class VetorNaoOrdenado:\n",
        "  def __init__(self, capacidade: int) -> int:\n",
        "    self.capacidade = capacidade\n",
        "    self.ultima_posicao = -1\n",
        "    self.valores = np.empty(self.capacidade, dtype=int)\n",
        "\n",
        "  def imprime(self):\n",
        "    if self.ultima_posicao == -1:\n",
        "      print('O vetor está vazio')\n",
        "    else:\n",
        "      for i in range(self.ultima_posicao + 1):\n",
        "        print(i, '-', self.valores[i])\n",
        "\n",
        "  def insere(self, valor):\n",
        "    if self.ultima_posicao == self.capacidade - 1:\n",
        "      print('Capacidade máxima atingida')\n",
        "    else:\n",
        "      self.ultima_posicao += 1\n",
        "      self.valores[self.ultima_posicao] = valor\n",
        "\n",
        "  def pesquisar(self, valor):\n",
        "    for i in range(self.ultima_posicao + 1):\n",
        "      if valor == self.valores[i]:\n",
        "        return i\n",
        "      else:\n",
        "        return -1"
      ],
      "metadata": {
        "id": "j_KuitRe8yqK"
      },
      "execution_count": 2,
      "outputs": []
    },
    {
      "cell_type": "code",
      "source": [
        "vetor = VetorNaoOrdenado(5)"
      ],
      "metadata": {
        "id": "Rb7pZlAT9xHc"
      },
      "execution_count": 3,
      "outputs": []
    },
    {
      "cell_type": "code",
      "source": [
        "vetor.imprime()"
      ],
      "metadata": {
        "colab": {
          "base_uri": "https://localhost:8080/"
        },
        "id": "Opqg-Q5I92K5",
        "outputId": "6d7c0964-0a55-4429-cf43-2b592be3514e"
      },
      "execution_count": 4,
      "outputs": [
        {
          "output_type": "stream",
          "name": "stdout",
          "text": [
            "O vetor está vazio\n"
          ]
        }
      ]
    },
    {
      "cell_type": "code",
      "source": [
        "vetor.insere(2)"
      ],
      "metadata": {
        "id": "6Z_MPD_z_EMr"
      },
      "execution_count": 5,
      "outputs": []
    },
    {
      "cell_type": "code",
      "source": [
        "vetor.insere(3)"
      ],
      "metadata": {
        "id": "AWjZ7LNy_Qwj"
      },
      "execution_count": 6,
      "outputs": []
    },
    {
      "cell_type": "code",
      "source": [
        "vetor.insere(5)"
      ],
      "metadata": {
        "id": "Y8hj1Nis_Snn"
      },
      "execution_count": 7,
      "outputs": []
    },
    {
      "cell_type": "code",
      "source": [
        "vetor.insere(8)"
      ],
      "metadata": {
        "id": "aUxML2rW_UCu"
      },
      "execution_count": 8,
      "outputs": []
    },
    {
      "cell_type": "code",
      "source": [
        "vetor.insere(1)"
      ],
      "metadata": {
        "id": "igzsOrHR_Wn8"
      },
      "execution_count": 9,
      "outputs": []
    },
    {
      "cell_type": "code",
      "source": [
        "vetor.imprime()"
      ],
      "metadata": {
        "colab": {
          "base_uri": "https://localhost:8080/"
        },
        "id": "KWq4su0E_Jgh",
        "outputId": "97f16d7f-69d0-41d8-f73e-91b8c18a2452"
      },
      "execution_count": 10,
      "outputs": [
        {
          "output_type": "stream",
          "name": "stdout",
          "text": [
            "0 - 2\n",
            "1 - 3\n",
            "2 - 5\n",
            "3 - 8\n",
            "4 - 1\n"
          ]
        }
      ]
    }
  ]
}